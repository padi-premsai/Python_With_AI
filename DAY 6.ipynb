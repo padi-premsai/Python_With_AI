{
 "cells": [
  {
   "cell_type": "markdown",
   "id": "a63f7180",
   "metadata": {},
   "source": [
    "# Python Operators\n",
    "- Arithmetic operators\n",
    "- Assignment operators\n",
    "- Comparison operators\n",
    "- Logical operators\n",
    "- Identity operators\n",
    "- Membership operators"
   ]
  },
  {
   "cell_type": "markdown",
   "id": "4deab755",
   "metadata": {},
   "source": [
    "# Arithmetic operators\n",
    "- Use To Perform Mathematical Operations\n",
    "    - Operators \n",
    "         - **'+'**\n",
    "         - **'-'**\n",
    "         - **'*'**\n",
    "         - **'/'**\n",
    "         - **'**'**\n",
    "         - **'%'**\n",
    "         - **'//'**"
   ]
  },
  {
   "cell_type": "code",
   "execution_count": 7,
   "id": "21f1f7df",
   "metadata": {},
   "outputs": [
    {
     "name": "stdout",
     "output_type": "stream",
     "text": [
      "150\n",
      "100\n",
      "3125\n",
      "5.0\n",
      "26469779601696885595885078146238811314105987548828125\n",
      "0\n",
      "5\n"
     ]
    }
   ],
   "source": [
    "\n",
    "A=125\n",
    "B=25\n",
    "print(A+B) # \"+\"-->Addition\n",
    "print(A-B) # \"-\"-->Subtraction\n",
    "print(A*B) # \"*\"-->Multiplication\n",
    "print(A/B) # \"/\"-->Division\n",
    "print(A**B) # \"**\"-->Power\n",
    "print(A%B) # \"%\"-->Modulus\n",
    "print(A//B) # \"//\"-->Floor Division"
   ]
  },
  {
   "cell_type": "markdown",
   "id": "fc7bc38f",
   "metadata": {},
   "source": [
    "# Assignment Operators\n",
    "- Used In Python To Assign Values To Variables\n",
    "    - operators\n",
    "      - **'+='**\n",
    "      - **'-='**\n",
    "      - **'*='**\n",
    "      - **'/='**\n",
    "      - **'**='**\n",
    "      - **'%='**\n",
    "      - **'//='**\n",
    "\n",
    "       "
   ]
  },
  {
   "cell_type": "code",
   "execution_count": 10,
   "id": "1c55e2f6",
   "metadata": {},
   "outputs": [
    {
     "name": "stdout",
     "output_type": "stream",
     "text": [
      "3\n",
      "2\n",
      "2\n",
      "2.0\n",
      "2.0\n",
      "0.0\n",
      "0.0\n"
     ]
    }
   ],
   "source": [
    "A=2\n",
    "A+=1\n",
    "print(A)\n",
    "A-=1\n",
    "print(A)\n",
    "A*=1\n",
    "print(A)\n",
    "A/=1\n",
    "print(A)\n",
    "A**=1\n",
    "print(A)\n",
    "A%=1\n",
    "print(A)\n",
    "A//=1\n",
    "print(A)"
   ]
  },
  {
   "cell_type": "markdown",
   "id": "aeaf8ade",
   "metadata": {},
   "source": [
    "# Comparison operators\n",
    "- Used  For To Compare Values\n",
    "    - Operators\n",
    "      - **'=='**\n",
    "      - **'!='**\n",
    "      - **'<'**\n",
    "      - **'>'**\n",
    "      - **'<='**\n",
    "      - **'>='**\n"
   ]
  },
  {
   "cell_type": "code",
   "execution_count": 11,
   "id": "94c29280",
   "metadata": {},
   "outputs": [
    {
     "name": "stdout",
     "output_type": "stream",
     "text": [
      "True\n",
      "False\n",
      "False\n",
      "False\n",
      "True\n",
      "True\n"
     ]
    }
   ],
   "source": [
    "A=2\n",
    "B=2.0\n",
    "print(A==B)\n",
    "print(A!=B)\n",
    "print(A<B)\n",
    "print(A>B)\n",
    "print(A<=B)\n",
    "print(A>=B)"
   ]
  },
  {
   "cell_type": "markdown",
   "id": "b84a638c",
   "metadata": {},
   "source": [
    "# Logical operators\n",
    "- Use To Perform Logical Operations (**Logical operators are used on conditional statements {either True or False}**)\n",
    "   - Operators\n",
    "       - **'and'**\n",
    "       - **'or'**\n",
    "       - **'not'**"
   ]
  },
  {
   "cell_type": "code",
   "execution_count": 12,
   "id": "5f86f3c7",
   "metadata": {},
   "outputs": [
    {
     "name": "stdout",
     "output_type": "stream",
     "text": [
      "False\n",
      "True\n",
      "True\n"
     ]
    }
   ],
   "source": [
    "A=12\n",
    "print(A<3 and A>3)\n",
    "print(A<3 or A>3)\n",
    "print(not(A<3 and A>3))"
   ]
  },
  {
   "cell_type": "markdown",
   "id": "0c4fdbc3",
   "metadata": {},
   "source": [
    "# Identity operators\n",
    "- Use To Compare objects\n",
    "    - Operators\n",
    "         - **'is'**\n",
    "         - **'is not'**"
   ]
  },
  {
   "cell_type": "code",
   "execution_count": 15,
   "id": "eaea066f",
   "metadata": {},
   "outputs": [
    {
     "name": "stdout",
     "output_type": "stream",
     "text": [
      "False\n",
      "True\n",
      "False\n",
      "False\n",
      "True\n"
     ]
    }
   ],
   "source": [
    "A=5\n",
    "B=1\n",
    "C=5.0\n",
    "D=5\n",
    "print(A is B)\n",
    "print(A is not C)\n",
    "print(A is not B is C)\n",
    "print(A is B is not C)\n",
    "print(A is D is not C)"
   ]
  },
  {
   "cell_type": "markdown",
   "id": "d75d6a3a",
   "metadata": {},
   "source": [
    "# Membership operators\n",
    "- Operators Used To Validate The Membership Of A Value\n",
    "    - Operators\n",
    "        - **'in'**\n",
    "        - **'not in'**"
   ]
  },
  {
   "cell_type": "code",
   "execution_count": 18,
   "id": "db8298aa",
   "metadata": {},
   "outputs": [
    {
     "name": "stdout",
     "output_type": "stream",
     "text": [
      "False\n",
      "True\n",
      "True\n",
      "True\n"
     ]
    }
   ],
   "source": [
    "N=\"PREM\"\n",
    "print(\"p\" in N)\n",
    "print(\"R\" in N)\n",
    "print(\"RE\" in N)\n",
    "print(\"RM\" not in N)"
   ]
  },
  {
   "cell_type": "markdown",
   "id": "5628d810",
   "metadata": {},
   "source": [
    "# Control Flow Statements\n",
    " - Conditional Statements"
   ]
  },
  {
   "cell_type": "markdown",
   "id": "b7121232",
   "metadata": {},
   "source": [
    "# Conditional Statements\n",
    "- It is also known as decision-making statements\n",
    "    - Statements\n",
    "       - if\n",
    "       - else\n",
    "       - elif"
   ]
  },
  {
   "cell_type": "code",
   "execution_count": 20,
   "id": "3a399709",
   "metadata": {},
   "outputs": [
    {
     "name": "stdout",
     "output_type": "stream",
     "text": [
      "Enter a Number: 12\n",
      "Even\n"
     ]
    }
   ],
   "source": [
    "# check given number is even or odd\n",
    "N=int(input(\"Enter a Number: \"))\n",
    "if N%2==0:\n",
    "    print(\"Even\")\n",
    "else:\n",
    "    print(\"Odd\")"
   ]
  },
  {
   "cell_type": "code",
   "execution_count": 21,
   "id": "d64864c9",
   "metadata": {},
   "outputs": [
    {
     "name": "stdout",
     "output_type": "stream",
     "text": [
      "Enter a Number: 30\n",
      "Yes\n"
     ]
    }
   ],
   "source": [
    "# check given number is multiple of 3 and 5\n",
    "N=int(input(\"Enter a Number: \"))\n",
    "if N%3==0 and N%5==0:\n",
    "    print(\"Yes\")\n",
    "else:\n",
    "    print(\"No\")"
   ]
  },
  {
   "cell_type": "code",
   "execution_count": 22,
   "id": "2f577d83",
   "metadata": {},
   "outputs": [
    {
     "name": "stdout",
     "output_type": "stream",
     "text": [
      "Enter a Number: 12\n",
      "Positive\n"
     ]
    }
   ],
   "source": [
    "# check given is positive number,negative number or zero\n",
    "N=int(input(\"Enter a Number: \"))\n",
    "if N>0:\n",
    "    print(\"Positive\")\n",
    "elif N<0:\n",
    "    print(\"Negative\")\n",
    "else:\n",
    "    print(\"Zero\")"
   ]
  },
  {
   "cell_type": "code",
   "execution_count": 3,
   "id": "1f918ccf",
   "metadata": {},
   "outputs": [
    {
     "name": "stdout",
     "output_type": "stream",
     "text": [
      "Enter First Number: 1\n",
      "Enter Second Number: 2\n",
      "Enter Thired Number: 1\n",
      "B\n"
     ]
    }
   ],
   "source": [
    "# find large number from given 3 inputs\n",
    "A=int(input(\"Enter First Number: \"))\n",
    "B=int(input(\"Enter Second Number: \"))\n",
    "C=int(input(\"Enter Thired Number: \"))\n",
    "if A>B and A>C:\n",
    "    print(\"A\")\n",
    "elif B>C:\n",
    "    print(\"B\")\n",
    "else:\n",
    "    print(\"C\")\n"
   ]
  },
  {
   "cell_type": "code",
   "execution_count": 15,
   "id": "d1b261c3",
   "metadata": {},
   "outputs": [
    {
     "name": "stdout",
     "output_type": "stream",
     "text": [
      "Enter A Result: 12\n",
      "F\n"
     ]
    }
   ],
   "source": [
    "# find grding \n",
    "R=int(input(\"Enter A Result: \"))\n",
    "if R>80 and R<=100:\n",
    "    print(\"A\")\n",
    "elif R>60 and R<=80:\n",
    "    print(\"B\")\n",
    "elif R>50 and R<=60:\n",
    "    print(\"C\")\n",
    "elif R>45 and R<=50:\n",
    "    print(\"D\")\n",
    "elif R>25 and R<=45:\n",
    "    print(\"E\")\n",
    "else:\n",
    "    print(\"F\")"
   ]
  },
  {
   "cell_type": "markdown",
   "id": "6b5789e8",
   "metadata": {},
   "source": [
    "# While Loop Statement"
   ]
  },
  {
   "cell_type": "code",
   "execution_count": 18,
   "id": "fb9e05a7",
   "metadata": {},
   "outputs": [],
   "source": [
    "# Syntax\n",
    "while Boolean Function:\n",
    "    statement\n",
    "    increment/decrement"
   ]
  },
  {
   "cell_type": "code",
   "execution_count": 20,
   "id": "a9b9730a",
   "metadata": {},
   "outputs": [
    {
     "name": "stdout",
     "output_type": "stream",
     "text": [
      "prem\n",
      "prem\n",
      "prem\n",
      "prem\n",
      "prem\n",
      "prem\n",
      "prem\n",
      "prem\n",
      "prem\n",
      "prem\n"
     ]
    }
   ],
   "source": [
    "# want to print \"prem\" 10 times\n",
    "i=1\n",
    "while i<=10:\n",
    "    print(\"prem\")\n",
    "    i=i+1"
   ]
  },
  {
   "cell_type": "code",
   "execution_count": 21,
   "id": "c6c799d5",
   "metadata": {},
   "outputs": [
    {
     "name": "stdout",
     "output_type": "stream",
     "text": [
      "1\n",
      "2\n",
      "3\n",
      "4\n",
      "5\n",
      "6\n",
      "7\n",
      "8\n",
      "9\n",
      "10\n"
     ]
    }
   ],
   "source": [
    "# print from 1 to 10 in horizental\n",
    "i=1\n",
    "while i<=10:\n",
    "    print(i)\n",
    "    i=i+1"
   ]
  },
  {
   "cell_type": "code",
   "execution_count": 22,
   "id": "d146621a",
   "metadata": {},
   "outputs": [
    {
     "name": "stdout",
     "output_type": "stream",
     "text": [
      "1 2 3 4 5 6 7 8 9 10 "
     ]
    }
   ],
   "source": [
    "# print from 1 to 10 in vertical\n",
    "i=1\n",
    "while i<=10:\n",
    "    print(i,end=\" \")\n",
    "    i=i+1"
   ]
  },
  {
   "cell_type": "code",
   "execution_count": 3,
   "id": "7cd63504",
   "metadata": {},
   "outputs": [
    {
     "name": "stdout",
     "output_type": "stream",
     "text": [
      "2\n",
      "4\n",
      "6\n",
      "8\n",
      "10\n"
     ]
    }
   ],
   "source": [
    "# from 1 to 10 only print even numbers\n",
    "i=1\n",
    "while i<=10:\n",
    "    if i%2 ==0:\n",
    "        print(i)\n",
    "    i=i+1"
   ]
  },
  {
   "cell_type": "code",
   "execution_count": 6,
   "id": "a5720b9f",
   "metadata": {},
   "outputs": [
    {
     "name": "stdout",
     "output_type": "stream",
     "text": [
      "1 3 5 7 9 "
     ]
    }
   ],
   "source": [
    "# from 1 to 10 only print odd numbers\n",
    "i=1\n",
    "while i<=10:\n",
    "    if i%2 !=0:\n",
    "        print(i,end=\" \")\n",
    "    i=i+1"
   ]
  },
  {
   "cell_type": "code",
   "execution_count": 7,
   "id": "7bb09674",
   "metadata": {},
   "outputs": [
    {
     "name": "stdout",
     "output_type": "stream",
     "text": [
      "Enter a Number: 6\n",
      "1\n",
      "2\n",
      "3\n",
      "6\n"
     ]
    }
   ],
   "source": [
    "# pritn factorial of numbers\n",
    "N=int(input(\"Enter a Number: \"))\n",
    "i=1\n",
    "while i<=N:\n",
    "    if N%i==0:\n",
    "        print(i)\n",
    "    i=i+1"
   ]
  }
 ],
 "metadata": {
  "kernelspec": {
   "display_name": "Python 3 (ipykernel)",
   "language": "python",
   "name": "python3"
  },
  "language_info": {
   "codemirror_mode": {
    "name": "ipython",
    "version": 3
   },
   "file_extension": ".py",
   "mimetype": "text/x-python",
   "name": "python",
   "nbconvert_exporter": "python",
   "pygments_lexer": "ipython3",
   "version": "3.9.7"
  }
 },
 "nbformat": 4,
 "nbformat_minor": 5
}

{
 "cells": [
  {
   "cell_type": "markdown",
   "id": "3963cae3",
   "metadata": {},
   "source": [
    "# PREM\n",
    "## PREM\n",
    "### PREM\n",
    "#### PREM\n",
    "##### PREM\n",
    "###### PREM\n",
    "- DAYS\n",
    "    - DAY 1\n",
    "       - Introduction About Python\n",
    "    - DAY 2\n",
    "       - Google(Mails,Drive,Apllications)\n",
    "    - DAY 3\n",
    "       - Scratch\n",
    "    - DAY 4\n",
    "       - Raptors\n",
    "    - DAY 5\n",
    "       - Jupyter\n",
    "- *Python With AI*\n",
    "- **Python With AI**\n",
    "- ***Python With AI***"
   ]
  },
  {
   "cell_type": "code",
   "execution_count": 4,
   "id": "a9abfbcc",
   "metadata": {},
   "outputs": [
    {
     "name": "stdout",
     "output_type": "stream",
     "text": [
      "Hello World!\n"
     ]
    }
   ],
   "source": [
    "print(\"Hello World!\")"
   ]
  },
  {
   "cell_type": "code",
   "execution_count": 5,
   "id": "4a31a0f8",
   "metadata": {},
   "outputs": [
    {
     "name": "stdout",
     "output_type": "stream",
     "text": [
      "Hello,World!\n"
     ]
    }
   ],
   "source": [
    "print(\"Hello,World!\")"
   ]
  },
  {
   "cell_type": "code",
   "execution_count": 6,
   "id": "eb3ea983",
   "metadata": {},
   "outputs": [
    {
     "name": "stdout",
     "output_type": "stream",
     "text": [
      "One Two Three\n"
     ]
    }
   ],
   "source": [
    "print(\"One\",\"Two\",\"Three\")"
   ]
  },
  {
   "cell_type": "markdown",
   "id": "47203d4f",
   "metadata": {},
   "source": [
    "# Variable:- \n",
    "      - To Store Some Data Value"
   ]
  },
  {
   "cell_type": "code",
   "execution_count": 9,
   "id": "1f9eb4c7",
   "metadata": {},
   "outputs": [
    {
     "name": "stdout",
     "output_type": "stream",
     "text": [
      "403\n"
     ]
    }
   ],
   "source": [
    "a=403 # single variable assained to single value\n",
    "print(a)"
   ]
  },
  {
   "cell_type": "code",
   "execution_count": 14,
   "id": "7db1e9a9",
   "metadata": {},
   "outputs": [
    {
     "name": "stdout",
     "output_type": "stream",
     "text": [
      "403 403 403\n"
     ]
    }
   ],
   "source": [
    "a=b=c=403 # multiple variables assained to single value\n",
    "print(a,b,c)"
   ]
  },
  {
   "cell_type": "code",
   "execution_count": 12,
   "id": "84cdc21e",
   "metadata": {},
   "outputs": [
    {
     "name": "stdout",
     "output_type": "stream",
     "text": [
      "1 2 3\n"
     ]
    }
   ],
   "source": [
    "a,b,c=1,2,3 # multiple variables assained to multiple values\n",
    "print(a,b,c)"
   ]
  },
  {
   "cell_type": "markdown",
   "id": "a76ab2be",
   "metadata": {},
   "source": [
    "# Data Types:-\n",
    "             - Integer\n",
    "             - float\n",
    "             - String"
   ]
  },
  {
   "cell_type": "code",
   "execution_count": 20,
   "id": "5fc82fd9",
   "metadata": {},
   "outputs": [
    {
     "name": "stdout",
     "output_type": "stream",
     "text": [
      "403\n",
      "<class 'int'>\n"
     ]
    }
   ],
   "source": [
    "# integer\n",
    "a=403\n",
    "print(a)\n",
    "print(type(a))"
   ]
  },
  {
   "cell_type": "code",
   "execution_count": 21,
   "id": "1f1cbdc0",
   "metadata": {},
   "outputs": [
    {
     "name": "stdout",
     "output_type": "stream",
     "text": [
      "403.403 <class 'float'>\n"
     ]
    }
   ],
   "source": [
    "# float\n",
    "a=403.403\n",
    "print(a,type(a))"
   ]
  },
  {
   "cell_type": "code",
   "execution_count": 26,
   "id": "4281a0ee",
   "metadata": {},
   "outputs": [
    {
     "name": "stdout",
     "output_type": "stream",
     "text": [
      "Prem <class 'str'>\n"
     ]
    }
   ],
   "source": [
    "# String\n",
    "a=\"Prem\"\n",
    "print(a,type(a))"
   ]
  },
  {
   "cell_type": "code",
   "execution_count": 28,
   "id": "d2f0e62e",
   "metadata": {},
   "outputs": [
    {
     "name": "stdout",
     "output_type": "stream",
     "text": [
      "Prem <class 'str'>\n"
     ]
    }
   ],
   "source": [
    "# String\n",
    "a='Prem'\n",
    "print(a,type(a))"
   ]
  },
  {
   "cell_type": "markdown",
   "id": "d1df656b",
   "metadata": {},
   "source": [
    "# Data Conversions\n",
    " - Integer --> **int**\n",
    " - Float   --> **float**\n",
    " - String  --> **str**"
   ]
  },
  {
   "cell_type": "code",
   "execution_count": 3,
   "id": "a222b941",
   "metadata": {},
   "outputs": [
    {
     "name": "stdout",
     "output_type": "stream",
     "text": [
      "403 <class 'int'>\n",
      "403.0 <class 'float'>\n",
      "403 <class 'str'>\n"
     ]
    }
   ],
   "source": [
    "i=403\n",
    "print(i,type(i))\n",
    "f= float(i)\n",
    "print(f,type(f))\n",
    "s= str(i)\n",
    "print(s,type(s))"
   ]
  },
  {
   "cell_type": "code",
   "execution_count": 4,
   "id": "2e930ac7",
   "metadata": {},
   "outputs": [
    {
     "name": "stdout",
     "output_type": "stream",
     "text": [
      "403.1 <class 'float'>\n",
      "403 <class 'int'>\n",
      "403.1 <class 'str'>\n"
     ]
    }
   ],
   "source": [
    "f=403.1\n",
    "print(f,type(f))\n",
    "i=int(f)\n",
    "print(i,type(i))\n",
    "s=str(f)\n",
    "print(s,type(s))"
   ]
  },
  {
   "cell_type": "code",
   "execution_count": 6,
   "id": "da949d31",
   "metadata": {},
   "outputs": [
    {
     "name": "stdout",
     "output_type": "stream",
     "text": [
      "403 <class 'str'>\n",
      "403 <class 'int'>\n",
      "403.0 <class 'float'>\n"
     ]
    }
   ],
   "source": [
    "s=\"403\"\n",
    "print(s,type(s))\n",
    "i=int(s)\n",
    "print(i,type(i))\n",
    "f=float(s)\n",
    "print(f,type(f))"
   ]
  },
  {
   "cell_type": "code",
   "execution_count": 9,
   "id": "3af7c39b",
   "metadata": {},
   "outputs": [
    {
     "name": "stdout",
     "output_type": "stream",
     "text": [
      "403 <class 'str'>\n",
      "403.0 <class 'float'>\n",
      "403 <class 'int'>\n"
     ]
    }
   ],
   "source": [
    "s='403'\n",
    "print(s,type(s))\n",
    "f=float(s)\n",
    "print(f,type(f))\n",
    "i=int(s)\n",
    "print(i,type(i))"
   ]
  },
  {
   "cell_type": "markdown",
   "id": "4f80d962",
   "metadata": {},
   "source": [
    "# WORK-1"
   ]
  },
  {
   "cell_type": "code",
   "execution_count": 25,
   "id": "eec14652",
   "metadata": {},
   "outputs": [
    {
     "name": "stdout",
     "output_type": "stream",
     "text": [
      "Name**Is**James\n"
     ]
    }
   ],
   "source": [
    "# Display three string “Name”, “Is”, “James” as “NameIsJames”\n",
    "N=\"Name\"\n",
    "I=\"Is\"\n",
    "J=\"James\"\n",
    "print(N+\"**\"+I+\"**\"+J)"
   ]
  },
  {
   "cell_type": "code",
   "execution_count": 13,
   "id": "1532aaca",
   "metadata": {},
   "outputs": [
    {
     "name": "stdout",
     "output_type": "stream",
     "text": [
      "Name**Is**James\n"
     ]
    }
   ],
   "source": [
    "# Display three string “Name”, “Is”, “James” as “NameIsJames”\n",
    "print(\"Name**Is**James\")"
   ]
  },
  {
   "cell_type": "markdown",
   "id": "d432b310",
   "metadata": {},
   "source": [
    "# Input Function:-\n",
    "- Reads Input From User"
   ]
  },
  {
   "cell_type": "code",
   "execution_count": 16,
   "id": "aaea47fc",
   "metadata": {},
   "outputs": [
    {
     "name": "stdout",
     "output_type": "stream",
     "text": [
      "Enter Your Name: Padi Premsai\n",
      "My Name Is:  Padi Premsai <class 'str'>\n"
     ]
    }
   ],
   "source": [
    "# Input As Text\n",
    "a=input(\"Enter Your Name: \")\n",
    "print(\"My Name Is: \",a,type(a))"
   ]
  },
  {
   "cell_type": "code",
   "execution_count": 15,
   "id": "9186ae39",
   "metadata": {},
   "outputs": [
    {
     "name": "stdout",
     "output_type": "stream",
     "text": [
      "Enter A Value: 403\n",
      "403 <class 'int'>\n"
     ]
    }
   ],
   "source": [
    "# Input As Number\n",
    "a=int(input(\"Enter A Value: \"))\n",
    "print(a,type(a))"
   ]
  },
  {
   "cell_type": "markdown",
   "id": "e097e959",
   "metadata": {},
   "source": [
    "# WORK 2"
   ]
  },
  {
   "cell_type": "code",
   "execution_count": 18,
   "id": "687ca53e",
   "metadata": {},
   "outputs": [
    {
     "name": "stdout",
     "output_type": "stream",
     "text": [
      "Enter A Radius Value : 12\n",
      "Area Of Circle Is:  452.16\n"
     ]
    }
   ],
   "source": [
    "# Write a Python program which accepts the radius of a circle from the user and compute the area.\n",
    "R=int(input(\"Enter A Radius Value : \"))\n",
    "A=3.14*R**2\n",
    "print(\"Area Of Circle Is: \",A)\n"
   ]
  },
  {
   "cell_type": "code",
   "execution_count": 22,
   "id": "e87861e6",
   "metadata": {},
   "outputs": [
    {
     "name": "stdout",
     "output_type": "stream",
     "text": [
      "Enter A Number : 12\n",
      "Enter A Number : 12\n",
      "Addition Is:  24\n",
      "Multiplication Is:  144\n",
      "Division Is:  1.0\n"
     ]
    }
   ],
   "source": [
    "# Accept two numbers from the user and return their sum, multiplication and division.\n",
    "A=int(input(\"Enter A Number : \"))\n",
    "B=int(input(\"Enter A Number : \"))\n",
    "print(\"Addition Is: \",A+B)\n",
    "print(\"Multiplication Is: \",A*B)\n",
    "print(\"Division Is: \",A/B)"
   ]
  },
  {
   "cell_type": "code",
   "execution_count": 23,
   "id": "4215359f",
   "metadata": {},
   "outputs": [
    {
     "name": "stdout",
     "output_type": "stream",
     "text": [
      "Enter A Year: 2001\n",
      "Result:  2051\n"
     ]
    }
   ],
   "source": [
    "# Using input() function, print() function and another function you may need; ask for the current year, then print the answer +50.\n",
    "Y=int(input(\"Enter A Year: \"))\n",
    "print(\"Result: \",Y+50)"
   ]
  },
  {
   "cell_type": "code",
   "execution_count": null,
   "id": "6caa28b8",
   "metadata": {},
   "outputs": [],
   "source": []
  }
 ],
 "metadata": {
  "kernelspec": {
   "display_name": "Python 3 (ipykernel)",
   "language": "python",
   "name": "python3"
  },
  "language_info": {
   "codemirror_mode": {
    "name": "ipython",
    "version": 3
   },
   "file_extension": ".py",
   "mimetype": "text/x-python",
   "name": "python",
   "nbconvert_exporter": "python",
   "pygments_lexer": "ipython3",
   "version": "3.9.7"
  }
 },
 "nbformat": 4,
 "nbformat_minor": 5
}

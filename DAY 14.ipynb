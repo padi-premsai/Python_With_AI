{
 "cells": [
  {
   "cell_type": "code",
   "execution_count": 5,
   "id": "021faad4",
   "metadata": {},
   "outputs": [
    {
     "ename": "AttributeError",
     "evalue": "'Turtle' object has no attribute 'done'",
     "output_type": "error",
     "traceback": [
      "\u001b[1;31m---------------------------------------------------------------------------\u001b[0m",
      "\u001b[1;31mAttributeError\u001b[0m                            Traceback (most recent call last)",
      "\u001b[1;32m~\\AppData\\Local\\Temp/ipykernel_13400/1667012608.py\u001b[0m in \u001b[0;36m<module>\u001b[1;34m\u001b[0m\n\u001b[0;32m     11\u001b[0m     \u001b[0msquare\u001b[0m\u001b[1;33m(\u001b[0m\u001b[1;36m100\u001b[0m\u001b[1;33m,\u001b[0m\u001b[1;36m90\u001b[0m\u001b[1;33m)\u001b[0m\u001b[1;33m\u001b[0m\u001b[1;33m\u001b[0m\u001b[0m\n\u001b[0;32m     12\u001b[0m     \u001b[0mt\u001b[0m\u001b[1;33m.\u001b[0m\u001b[0mright\u001b[0m\u001b[1;33m(\u001b[0m\u001b[1;36m5\u001b[0m\u001b[1;33m)\u001b[0m\u001b[1;33m\u001b[0m\u001b[1;33m\u001b[0m\u001b[0m\n\u001b[1;32m---> 13\u001b[1;33m \u001b[0mt\u001b[0m\u001b[1;33m.\u001b[0m\u001b[0mdone\u001b[0m\u001b[1;33m(\u001b[0m\u001b[1;33m)\u001b[0m\u001b[1;33m\u001b[0m\u001b[1;33m\u001b[0m\u001b[0m\n\u001b[0m",
      "\u001b[1;31mAttributeError\u001b[0m: 'Turtle' object has no attribute 'done'"
     ]
    }
   ],
   "source": [
    "# circle of square\n",
    "import turtle\n",
    "t=turtle.Turtle()\n",
    "t.speed(200)\n",
    "t.pencolor(\"red\")\n",
    "def square(l,a):\n",
    "    for i in range(4):\n",
    "        t.forward(100)\n",
    "        t.right(90)\n",
    "for i in range(180):\n",
    "    square(100,90)\n",
    "    t.right(5)\n",
    "t.done()"
   ]
  },
  {
   "cell_type": "code",
   "execution_count": 1,
   "id": "67530bb6",
   "metadata": {},
   "outputs": [],
   "source": [
    "# square of square\n",
    "import turtle\n",
    "t=turtle.Turtle()\n",
    "t.speed(200)\n",
    "t.color(\"Blue\")\n",
    "def square(size):\n",
    "    for i in range(4):\n",
    "        t.forward(size)\n",
    "        t.right(90)\n",
    "square(146)\n",
    "square(126)\n",
    "square(96)\n",
    "square(76)\n",
    "square(56)\n",
    "square(36)\n",
    "square(16)"
   ]
  },
  {
   "cell_type": "code",
   "execution_count": 6,
   "id": "a8468866",
   "metadata": {},
   "outputs": [
    {
     "ename": "AttributeError",
     "evalue": "'Turtle' object has no attribute 'done'",
     "output_type": "error",
     "traceback": [
      "\u001b[1;31m---------------------------------------------------------------------------\u001b[0m",
      "\u001b[1;31mAttributeError\u001b[0m                            Traceback (most recent call last)",
      "\u001b[1;32m~\\AppData\\Local\\Temp/ipykernel_13400/4043341913.py\u001b[0m in \u001b[0;36m<module>\u001b[1;34m\u001b[0m\n\u001b[0;32m     13\u001b[0m     \u001b[0msquare\u001b[0m\u001b[1;33m(\u001b[0m\u001b[1;36m100\u001b[0m\u001b[1;33m,\u001b[0m\u001b[1;36m90\u001b[0m\u001b[1;33m)\u001b[0m\u001b[1;33m\u001b[0m\u001b[1;33m\u001b[0m\u001b[0m\n\u001b[0;32m     14\u001b[0m     \u001b[0mt\u001b[0m\u001b[1;33m.\u001b[0m\u001b[0mright\u001b[0m\u001b[1;33m(\u001b[0m\u001b[1;36m5\u001b[0m\u001b[1;33m)\u001b[0m\u001b[1;33m\u001b[0m\u001b[1;33m\u001b[0m\u001b[0m\n\u001b[1;32m---> 15\u001b[1;33m \u001b[0mt\u001b[0m\u001b[1;33m.\u001b[0m\u001b[0mdone\u001b[0m\u001b[1;33m(\u001b[0m\u001b[1;33m)\u001b[0m\u001b[1;33m\u001b[0m\u001b[1;33m\u001b[0m\u001b[0m\n\u001b[0m",
      "\u001b[1;31mAttributeError\u001b[0m: 'Turtle' object has no attribute 'done'"
     ]
    }
   ],
   "source": [
    "# circle of \n",
    "import turtle\n",
    "t=turtle.Turtle()\n",
    "t.speed(200)\n",
    "t.pencolor(\"red\")\n",
    "def square(l,a):\n",
    "    for i in range(4):\n",
    "        t.backward(100)\n",
    "        t.right(90)\n",
    "        t.backward(45)\n",
    "        t.right(90)\n",
    "for i in range(180):\n",
    "    square(100,90)\n",
    "    t.right(5)\n",
    "t.done()"
   ]
  },
  {
   "cell_type": "markdown",
   "id": "caed9266",
   "metadata": {},
   "source": [
    "# Python Statstical Module\n",
    " - Used to calculate mathematical statstis of numerical data\n",
    "      - mean\n",
    "      - mode\n",
    "      - median\n",
    "      - variance"
   ]
  },
  {
   "cell_type": "code",
   "execution_count": 3,
   "id": "30dec909",
   "metadata": {},
   "outputs": [
    {
     "data": {
      "text/plain": [
       "[1, 2, 3, 4, 5, 6, 7, 8, 9, 10, 11, 12, 13, 14, 15, 16, 17, 18, 19, 20]"
      ]
     },
     "execution_count": 3,
     "metadata": {},
     "output_type": "execute_result"
    }
   ],
   "source": [
    "import statistics as st\n",
    "l1=list(range(1,21))\n",
    "l1"
   ]
  },
  {
   "cell_type": "code",
   "execution_count": 4,
   "id": "ca313270",
   "metadata": {},
   "outputs": [
    {
     "name": "stdout",
     "output_type": "stream",
     "text": [
      "10.5\n"
     ]
    }
   ],
   "source": [
    "#mean\n",
    "print(st.mean(l1))"
   ]
  },
  {
   "cell_type": "code",
   "execution_count": 8,
   "id": "e1377381",
   "metadata": {},
   "outputs": [
    {
     "name": "stdout",
     "output_type": "stream",
     "text": [
      "2\n"
     ]
    }
   ],
   "source": [
    "#mode\n",
    "l=[1,2,2,3,4,5]\n",
    "print(st.mode(l))"
   ]
  },
  {
   "cell_type": "code",
   "execution_count": 10,
   "id": "88dae5e1",
   "metadata": {},
   "outputs": [
    {
     "name": "stdout",
     "output_type": "stream",
     "text": [
      "3\n"
     ]
    }
   ],
   "source": [
    "#median\n",
    "l=[1,2,3,4,5]\n",
    "print(st.median(l))"
   ]
  },
  {
   "cell_type": "code",
   "execution_count": 11,
   "id": "45cf6c0d",
   "metadata": {},
   "outputs": [
    {
     "name": "stdout",
     "output_type": "stream",
     "text": [
      "35.0\n"
     ]
    }
   ],
   "source": [
    "#variance\n",
    "print(st.variance(l1))"
   ]
  },
  {
   "cell_type": "markdown",
   "id": "8c27b768",
   "metadata": {},
   "source": [
    "# Random Module"
   ]
  },
  {
   "cell_type": "code",
   "execution_count": 12,
   "id": "1727ae75",
   "metadata": {},
   "outputs": [
    {
     "data": {
      "text/plain": [
       "0.3907033618735738"
      ]
     },
     "execution_count": 12,
     "metadata": {},
     "output_type": "execute_result"
    }
   ],
   "source": [
    "import random as rd\n",
    "rd.random()"
   ]
  },
  {
   "cell_type": "code",
   "execution_count": 14,
   "id": "bb424184",
   "metadata": {},
   "outputs": [
    {
     "name": "stdout",
     "output_type": "stream",
     "text": [
      "12\n"
     ]
    }
   ],
   "source": [
    "# randint()\n",
    "print(rd.randint(1,15))"
   ]
  },
  {
   "cell_type": "code",
   "execution_count": 23,
   "id": "7b82319b",
   "metadata": {},
   "outputs": [
    {
     "name": "stdout",
     "output_type": "stream",
     "text": [
      "9\n"
     ]
    }
   ],
   "source": [
    "# randrange()\n",
    "print(rd.randrange(1,11,2))"
   ]
  },
  {
   "cell_type": "code",
   "execution_count": 28,
   "id": "9de1319c",
   "metadata": {},
   "outputs": [
    {
     "name": "stdout",
     "output_type": "stream",
     "text": [
      "3\n"
     ]
    }
   ],
   "source": [
    "# choice()\n",
    "l=[1,2,3,4,5]\n",
    "print(rd.choice(l))"
   ]
  },
  {
   "cell_type": "code",
   "execution_count": 27,
   "id": "03821e47",
   "metadata": {},
   "outputs": [
    {
     "name": "stdout",
     "output_type": "stream",
     "text": [
      "[2, 4, 3, 1, 5]\n"
     ]
    }
   ],
   "source": [
    "# shuffle()\n",
    "l=[1,2,3,4,5]\n",
    "rd.shuffle(l)\n",
    "print(l)"
   ]
  },
  {
   "cell_type": "markdown",
   "id": "b01ce28b",
   "metadata": {},
   "source": [
    "# Numpy Module\n",
    "    - Mostly used to with arrays\n",
    "    - Numpy stands for numerical python"
   ]
  },
  {
   "cell_type": "code",
   "execution_count": 31,
   "id": "488ab34a",
   "metadata": {},
   "outputs": [
    {
     "name": "stdout",
     "output_type": "stream",
     "text": [
      "[1 2 3 4 5] <class 'numpy.ndarray'>\n"
     ]
    }
   ],
   "source": [
    "import numpy as np\n",
    "l=[1,2,3,4,5]\n",
    "arr=np.array(l)\n",
    "print(arr,type(arr))"
   ]
  },
  {
   "cell_type": "code",
   "execution_count": 35,
   "id": "a50d6169",
   "metadata": {},
   "outputs": [
    {
     "name": "stdout",
     "output_type": "stream",
     "text": [
      "[1, 2, 3, 4, 5, 6, 7, 8, 9, 10, 11, 12, 13, 14, 15, 16, 17, 18, 19, 20] <class 'list'>\n"
     ]
    }
   ],
   "source": [
    "l=list(range(1,21))\n",
    "print(l,type(l))"
   ]
  },
  {
   "cell_type": "code",
   "execution_count": 37,
   "id": "adfd7c8f",
   "metadata": {},
   "outputs": [
    {
     "name": "stdout",
     "output_type": "stream",
     "text": [
      "<class 'numpy.ndarray'>\n"
     ]
    },
    {
     "data": {
      "text/plain": [
       "array([ 1,  2,  3,  4,  5,  6,  7,  8,  9, 10, 11, 12, 13, 14, 15, 16, 17,\n",
       "       18, 19, 20])"
      ]
     },
     "execution_count": 37,
     "metadata": {},
     "output_type": "execute_result"
    }
   ],
   "source": [
    "arr=np.arange(1,21)\n",
    "print(type(arr))\n",
    "arr"
   ]
  },
  {
   "cell_type": "markdown",
   "id": "5091c394",
   "metadata": {},
   "source": [
    "## Dimenstions in array"
   ]
  },
  {
   "cell_type": "code",
   "execution_count": 3,
   "id": "d030750e",
   "metadata": {},
   "outputs": [
    {
     "name": "stdout",
     "output_type": "stream",
     "text": [
      "[1 2 3 4 5]\n"
     ]
    }
   ],
   "source": [
    "# 1-d\n",
    "import numpy as np\n",
    "arr1=np.array([1,2,3,4,5])\n",
    "print(arr1)"
   ]
  },
  {
   "cell_type": "code",
   "execution_count": 2,
   "id": "eff7d92b",
   "metadata": {},
   "outputs": [
    {
     "name": "stdout",
     "output_type": "stream",
     "text": [
      "[[1 2 3]\n",
      " [4 5 6]]\n"
     ]
    }
   ],
   "source": [
    "# 2-d\n",
    "arr2=np.array([[1,2,3],[4,5,6]])\n",
    "print(arr2)"
   ]
  },
  {
   "cell_type": "code",
   "execution_count": 11,
   "id": "4085ceec",
   "metadata": {},
   "outputs": [
    {
     "name": "stdout",
     "output_type": "stream",
     "text": [
      "[[[1 2 3]\n",
      "  [3 4 5]]\n",
      "\n",
      " [[5 6 7]\n",
      "  [7 8 9]]]\n"
     ]
    }
   ],
   "source": [
    "# 3-d\n",
    "arr3=np.array([[[1,2,3] ,[3,4,5]],[[5,6,7],[7,8,9]]])\n",
    "print(arr3)"
   ]
  },
  {
   "cell_type": "markdown",
   "id": "17d06b86",
   "metadata": {},
   "source": [
    "### Access the elements in array"
   ]
  },
  {
   "cell_type": "code",
   "execution_count": 14,
   "id": "c3946b30",
   "metadata": {},
   "outputs": [
    {
     "name": "stdout",
     "output_type": "stream",
     "text": [
      "4\n"
     ]
    }
   ],
   "source": [
    "# 1-d\n",
    "import numpy as np\n",
    "arr1=np.array([1,2,3,4,5])\n",
    "print(arr1[3])"
   ]
  },
  {
   "cell_type": "code",
   "execution_count": 15,
   "id": "bebce696",
   "metadata": {},
   "outputs": [
    {
     "name": "stdout",
     "output_type": "stream",
     "text": [
      "5\n"
     ]
    }
   ],
   "source": [
    "# 2-d             #0       #1\n",
    "arr2=np.array([[1,2,3],[4,5,6]])\n",
    "print(arr2[1,1])"
   ]
  },
  {
   "cell_type": "code",
   "execution_count": 16,
   "id": "bb9962fa",
   "metadata": {},
   "outputs": [
    {
     "name": "stdout",
     "output_type": "stream",
     "text": [
      "7\n"
     ]
    }
   ],
   "source": [
    "# 3-d                   #0                 #1\n",
    "                   #0      #1         #0     #1\n",
    "arr3=np.array([[[1,2,3] ,[3,4,5]],[[5,6,7],[7,8,9]]])\n",
    "print(arr3[1,0,2])       "
   ]
  },
  {
   "cell_type": "code",
   "execution_count": 17,
   "id": "97f42a83",
   "metadata": {},
   "outputs": [
    {
     "name": "stdout",
     "output_type": "stream",
     "text": [
      "2\n"
     ]
    }
   ],
   "source": [
    "print(arr3[0,0,1]) "
   ]
  },
  {
   "cell_type": "code",
   "execution_count": 23,
   "id": "79253f83",
   "metadata": {},
   "outputs": [
    {
     "name": "stdout",
     "output_type": "stream",
     "text": [
      "2\n",
      "[0.47492971 0.37300682 0.95776086 0.48772555 0.86592327 0.84660127\n",
      " 0.19419443 0.56481477]\n"
     ]
    }
   ],
   "source": [
    "from numpy import random\n",
    "print(random.randint(5))\n",
    "print(random.rand(8))"
   ]
  },
  {
   "cell_type": "code",
   "execution_count": 30,
   "id": "e8d4d641",
   "metadata": {},
   "outputs": [
    {
     "name": "stdout",
     "output_type": "stream",
     "text": [
      "[93 35 16 86 91]\n",
      "[[29 40 60 21 40]\n",
      " [14 18 55 25 18]]\n",
      "[[[30 35 84 29 31]\n",
      "  [22 23 63  5 13]\n",
      "  [64 64 68 94  8]\n",
      "  [47 32 35 51 71]]\n",
      "\n",
      " [[89 79 28 70  8]\n",
      "  [64 43  8 56 59]\n",
      "  [67 46 63 46 73]\n",
      "  [42 80 92 78 98]]\n",
      "\n",
      " [[33 90 13 84 82]\n",
      "  [29 20 72  5 59]\n",
      "  [86 74 66 65 23]\n",
      "  [74 63 95 52 97]]]\n"
     ]
    }
   ],
   "source": [
    "# create a n-dimenstional array with random intiger values\n",
    "print(random.randint(100,size=5))\n",
    "print(random.randint(100,size=(2,5)))\n",
    "print(random.randint(100,size=(3,4,5)))\n"
   ]
  },
  {
   "cell_type": "code",
   "execution_count": 34,
   "id": "47010886",
   "metadata": {},
   "outputs": [
    {
     "name": "stdout",
     "output_type": "stream",
     "text": [
      "[0.48059806 0.19688886 0.92508775 0.19695953 0.23101726]\n",
      "[[0.34782182 0.50453753 0.29611528 0.96907559 0.1978213 ]\n",
      " [0.82586813 0.99877875 0.40067698 0.0727613  0.92670076]]\n",
      "[[[0.39966029 0.90304027 0.64219142 0.88101325 0.59005905]\n",
      "  [0.75911146 0.90226236 0.43267991 0.30863218 0.79845127]\n",
      "  [0.39254464 0.69299929 0.27262621 0.6011755  0.46646336]\n",
      "  [0.7691277  0.6938715  0.16504801 0.3031903  0.32951325]]\n",
      "\n",
      " [[0.75049369 0.20145015 0.95297891 0.54240175 0.74991029]\n",
      "  [0.01650091 0.7244828  0.11869924 0.0110091  0.42544343]\n",
      "  [0.55047863 0.52196972 0.40686827 0.50939998 0.48031258]\n",
      "  [0.93097358 0.28570328 0.38684333 0.75246206 0.58287441]]\n",
      "\n",
      " [[0.92450342 0.17363225 0.41932588 0.9362654  0.18892353]\n",
      "  [0.64743629 0.52153206 0.1400953  0.52572919 0.31271792]\n",
      "  [0.23737757 0.34384972 0.94408711 0.05843991 0.00513512]\n",
      "  [0.65150403 0.92197623 0.60491004 0.39425208 0.98322758]]]\n"
     ]
    }
   ],
   "source": [
    "# create a n-dimenstional array with random decimal values\n",
    "print(random.rand(5))\n",
    "print(random.rand(2,5))\n",
    "print(random.rand(3,4,5))"
   ]
  },
  {
   "cell_type": "markdown",
   "id": "9098683e",
   "metadata": {},
   "source": [
    "# Pandas Module\n",
    "- Used to work with datasets"
   ]
  },
  {
   "cell_type": "code",
   "execution_count": 39,
   "id": "a9cd72f2",
   "metadata": {},
   "outputs": [
    {
     "data": {
      "text/html": [
       "<div>\n",
       "<style scoped>\n",
       "    .dataframe tbody tr th:only-of-type {\n",
       "        vertical-align: middle;\n",
       "    }\n",
       "\n",
       "    .dataframe tbody tr th {\n",
       "        vertical-align: top;\n",
       "    }\n",
       "\n",
       "    .dataframe thead th {\n",
       "        text-align: right;\n",
       "    }\n",
       "</style>\n",
       "<table border=\"1\" class=\"dataframe\">\n",
       "  <thead>\n",
       "    <tr style=\"text-align: right;\">\n",
       "      <th></th>\n",
       "      <th>First</th>\n",
       "      <th>Second</th>\n",
       "    </tr>\n",
       "  </thead>\n",
       "  <tbody>\n",
       "    <tr>\n",
       "      <th>a</th>\n",
       "      <td>1</td>\n",
       "      <td>NaN</td>\n",
       "    </tr>\n",
       "    <tr>\n",
       "      <th>b</th>\n",
       "      <td>2</td>\n",
       "      <td>NaN</td>\n",
       "    </tr>\n",
       "    <tr>\n",
       "      <th>c</th>\n",
       "      <td>3</td>\n",
       "      <td>NaN</td>\n",
       "    </tr>\n",
       "    <tr>\n",
       "      <th>d</th>\n",
       "      <td>NaN</td>\n",
       "      <td>14</td>\n",
       "    </tr>\n",
       "    <tr>\n",
       "      <th>e</th>\n",
       "      <td>NaN</td>\n",
       "      <td>5</td>\n",
       "    </tr>\n",
       "    <tr>\n",
       "      <th>f</th>\n",
       "      <td>NaN</td>\n",
       "      <td>6</td>\n",
       "    </tr>\n",
       "  </tbody>\n",
       "</table>\n",
       "</div>"
      ],
      "text/plain": [
       "  First Second\n",
       "a     1    NaN\n",
       "b     2    NaN\n",
       "c     3    NaN\n",
       "d   NaN     14\n",
       "e   NaN      5\n",
       "f   NaN      6"
      ]
     },
     "execution_count": 39,
     "metadata": {},
     "output_type": "execute_result"
    }
   ],
   "source": [
    "import pandas as pd\n",
    "d1={\"a\":\"1\",\"b\":\"2\",\"c\":\"3\"}\n",
    "d2={\"d\":\"14\",\"e\":\"5\",\"f\":\"6\"}\n",
    "data={\"First\":d1,\"Second\":d2}\n",
    "df=pd.DataFrame(data)\n",
    "df"
   ]
  },
  {
   "cell_type": "code",
   "execution_count": 40,
   "id": "f6b97808",
   "metadata": {},
   "outputs": [
    {
     "data": {
      "text/html": [
       "<div>\n",
       "<style scoped>\n",
       "    .dataframe tbody tr th:only-of-type {\n",
       "        vertical-align: middle;\n",
       "    }\n",
       "\n",
       "    .dataframe tbody tr th {\n",
       "        vertical-align: top;\n",
       "    }\n",
       "\n",
       "    .dataframe thead th {\n",
       "        text-align: right;\n",
       "    }\n",
       "</style>\n",
       "<table border=\"1\" class=\"dataframe\">\n",
       "  <thead>\n",
       "    <tr style=\"text-align: right;\">\n",
       "      <th></th>\n",
       "      <th>First</th>\n",
       "      <th>Second</th>\n",
       "    </tr>\n",
       "  </thead>\n",
       "  <tbody>\n",
       "    <tr>\n",
       "      <th>a</th>\n",
       "      <td>1</td>\n",
       "      <td>14</td>\n",
       "    </tr>\n",
       "    <tr>\n",
       "      <th>b</th>\n",
       "      <td>2</td>\n",
       "      <td>5</td>\n",
       "    </tr>\n",
       "    <tr>\n",
       "      <th>c</th>\n",
       "      <td>3</td>\n",
       "      <td>6</td>\n",
       "    </tr>\n",
       "  </tbody>\n",
       "</table>\n",
       "</div>"
      ],
      "text/plain": [
       "  First Second\n",
       "a     1     14\n",
       "b     2      5\n",
       "c     3      6"
      ]
     },
     "execution_count": 40,
     "metadata": {},
     "output_type": "execute_result"
    }
   ],
   "source": [
    "import pandas as pd\n",
    "d1={\"a\":\"1\",\"b\":\"2\",\"c\":\"3\"}\n",
    "d2={\"a\":\"14\",\"b\":\"5\",\"c\":\"6\"}\n",
    "data={\"First\":d1,\"Second\":d2}\n",
    "df=pd.DataFrame(data)\n",
    "df"
   ]
  },
  {
   "cell_type": "code",
   "execution_count": 44,
   "id": "bc5944b0",
   "metadata": {},
   "outputs": [
    {
     "data": {
      "text/html": [
       "<div>\n",
       "<style scoped>\n",
       "    .dataframe tbody tr th:only-of-type {\n",
       "        vertical-align: middle;\n",
       "    }\n",
       "\n",
       "    .dataframe tbody tr th {\n",
       "        vertical-align: top;\n",
       "    }\n",
       "\n",
       "    .dataframe thead th {\n",
       "        text-align: right;\n",
       "    }\n",
       "</style>\n",
       "<table border=\"1\" class=\"dataframe\">\n",
       "  <thead>\n",
       "    <tr style=\"text-align: right;\">\n",
       "      <th></th>\n",
       "      <th>Name</th>\n",
       "      <th>Address</th>\n",
       "    </tr>\n",
       "  </thead>\n",
       "  <tbody>\n",
       "    <tr>\n",
       "      <th>0</th>\n",
       "      <td>Prem</td>\n",
       "      <td>VSP</td>\n",
       "    </tr>\n",
       "    <tr>\n",
       "      <th>1</th>\n",
       "      <td>Deepikapilli</td>\n",
       "      <td>VIZ</td>\n",
       "    </tr>\n",
       "    <tr>\n",
       "      <th>2</th>\n",
       "      <td>Simranchoudary</td>\n",
       "      <td>HYD</td>\n",
       "    </tr>\n",
       "  </tbody>\n",
       "</table>\n",
       "</div>"
      ],
      "text/plain": [
       "             Name Address\n",
       "0            Prem     VSP\n",
       "1    Deepikapilli     VIZ\n",
       "2  Simranchoudary     HYD"
      ]
     },
     "execution_count": 44,
     "metadata": {},
     "output_type": "execute_result"
    }
   ],
   "source": [
    "d={\"Name\":[\"Prem\",\"Deepikapilli\",\"Simranchoudary\"],\"Address\":[\"VSP\",\"VIZ\",\"HYD\"]}\n",
    "df=pd.DataFrame(d)\n",
    "df"
   ]
  },
  {
   "cell_type": "code",
   "execution_count": 46,
   "id": "722a7276",
   "metadata": {},
   "outputs": [
    {
     "data": {
      "text/html": [
       "<div>\n",
       "<style scoped>\n",
       "    .dataframe tbody tr th:only-of-type {\n",
       "        vertical-align: middle;\n",
       "    }\n",
       "\n",
       "    .dataframe tbody tr th {\n",
       "        vertical-align: top;\n",
       "    }\n",
       "\n",
       "    .dataframe thead th {\n",
       "        text-align: right;\n",
       "    }\n",
       "</style>\n",
       "<table border=\"1\" class=\"dataframe\">\n",
       "  <thead>\n",
       "    <tr style=\"text-align: right;\">\n",
       "      <th></th>\n",
       "      <th>Column 1</th>\n",
       "      <th>Column 2</th>\n",
       "      <th>Column 3</th>\n",
       "    </tr>\n",
       "  </thead>\n",
       "  <tbody>\n",
       "    <tr>\n",
       "      <th>0</th>\n",
       "      <td>a</td>\n",
       "      <td>1</td>\n",
       "      <td>1.1</td>\n",
       "    </tr>\n",
       "    <tr>\n",
       "      <th>1</th>\n",
       "      <td>b</td>\n",
       "      <td>2</td>\n",
       "      <td>2.2</td>\n",
       "    </tr>\n",
       "    <tr>\n",
       "      <th>2</th>\n",
       "      <td>c</td>\n",
       "      <td>3</td>\n",
       "      <td>3.3</td>\n",
       "    </tr>\n",
       "    <tr>\n",
       "      <th>3</th>\n",
       "      <td>d</td>\n",
       "      <td>4</td>\n",
       "      <td>4.4</td>\n",
       "    </tr>\n",
       "    <tr>\n",
       "      <th>4</th>\n",
       "      <td>e</td>\n",
       "      <td>5</td>\n",
       "      <td>5.5</td>\n",
       "    </tr>\n",
       "  </tbody>\n",
       "</table>\n",
       "</div>"
      ],
      "text/plain": [
       "  Column 1  Column 2  Column 3\n",
       "0        a         1       1.1\n",
       "1        b         2       2.2\n",
       "2        c         3       3.3\n",
       "3        d         4       4.4\n",
       "4        e         5       5.5"
      ]
     },
     "execution_count": 46,
     "metadata": {},
     "output_type": "execute_result"
    }
   ],
   "source": [
    "# Series\n",
    "s1=pd.Series([1,2,3,4,5])\n",
    "s2=pd.Series([1.1,2.2,3.3,4.4,5.5])\n",
    "s3=pd.Series([\"a\",\"b\",\"c\",\"d\",\"e\"])\n",
    "data={\"Column 1\":s3,\"Column 2\":s1,\"Column 3\":s2}\n",
    "df=pd.DataFrame(data)\n",
    "df"
   ]
  },
  {
   "cell_type": "markdown",
   "id": "ecc89d51",
   "metadata": {},
   "source": [
    "### Select Data From DataFrame"
   ]
  },
  {
   "cell_type": "code",
   "execution_count": 47,
   "id": "69e05d32",
   "metadata": {},
   "outputs": [
    {
     "data": {
      "text/plain": [
       "0    a\n",
       "1    b\n",
       "2    c\n",
       "3    d\n",
       "4    e\n",
       "Name: Column 1, dtype: object"
      ]
     },
     "execution_count": 47,
     "metadata": {},
     "output_type": "execute_result"
    }
   ],
   "source": [
    "df[\"Column 1\"]"
   ]
  },
  {
   "cell_type": "code",
   "execution_count": 48,
   "id": "d0c26556",
   "metadata": {},
   "outputs": [
    {
     "data": {
      "text/plain": [
       "0    1\n",
       "1    2\n",
       "2    3\n",
       "3    4\n",
       "4    5\n",
       "Name: Column 2, dtype: int64"
      ]
     },
     "execution_count": 48,
     "metadata": {},
     "output_type": "execute_result"
    }
   ],
   "source": [
    "df[\"Column 2\"]"
   ]
  },
  {
   "cell_type": "code",
   "execution_count": 49,
   "id": "ce3ee069",
   "metadata": {},
   "outputs": [
    {
     "data": {
      "text/plain": [
       "0    1.1\n",
       "1    2.2\n",
       "2    3.3\n",
       "3    4.4\n",
       "4    5.5\n",
       "Name: Column 3, dtype: float64"
      ]
     },
     "execution_count": 49,
     "metadata": {},
     "output_type": "execute_result"
    }
   ],
   "source": [
    "df[\"Column 3\"]"
   ]
  },
  {
   "cell_type": "code",
   "execution_count": 51,
   "id": "a2f8a066",
   "metadata": {},
   "outputs": [
    {
     "data": {
      "text/plain": [
       "'c'"
      ]
     },
     "execution_count": 51,
     "metadata": {},
     "output_type": "execute_result"
    }
   ],
   "source": [
    "df.loc[2,\"Column 1\"]"
   ]
  },
  {
   "cell_type": "code",
   "execution_count": 52,
   "id": "76252e16",
   "metadata": {},
   "outputs": [
    {
     "data": {
      "text/plain": [
       "2.2"
      ]
     },
     "execution_count": 52,
     "metadata": {},
     "output_type": "execute_result"
    }
   ],
   "source": [
    "df.loc[1,\"Column 3\"]"
   ]
  },
  {
   "cell_type": "code",
   "execution_count": 53,
   "id": "150309bd",
   "metadata": {},
   "outputs": [
    {
     "data": {
      "text/plain": [
       "Column 1      c\n",
       "Column 2      3\n",
       "Column 3    3.3\n",
       "Name: 2, dtype: object"
      ]
     },
     "execution_count": 53,
     "metadata": {},
     "output_type": "execute_result"
    }
   ],
   "source": [
    "df.iloc[2]"
   ]
  },
  {
   "cell_type": "code",
   "execution_count": 58,
   "id": "b4e4a604",
   "metadata": {},
   "outputs": [
    {
     "data": {
      "text/html": [
       "<div>\n",
       "<style scoped>\n",
       "    .dataframe tbody tr th:only-of-type {\n",
       "        vertical-align: middle;\n",
       "    }\n",
       "\n",
       "    .dataframe tbody tr th {\n",
       "        vertical-align: top;\n",
       "    }\n",
       "\n",
       "    .dataframe thead th {\n",
       "        text-align: right;\n",
       "    }\n",
       "</style>\n",
       "<table border=\"1\" class=\"dataframe\">\n",
       "  <thead>\n",
       "    <tr style=\"text-align: right;\">\n",
       "      <th></th>\n",
       "      <th>Column 1</th>\n",
       "      <th>Column 2</th>\n",
       "      <th>Column 3</th>\n",
       "    </tr>\n",
       "  </thead>\n",
       "  <tbody>\n",
       "    <tr>\n",
       "      <th>0</th>\n",
       "      <td>a</td>\n",
       "      <td>1</td>\n",
       "      <td>1.1</td>\n",
       "    </tr>\n",
       "    <tr>\n",
       "      <th>1</th>\n",
       "      <td>b</td>\n",
       "      <td>2</td>\n",
       "      <td>2.2</td>\n",
       "    </tr>\n",
       "  </tbody>\n",
       "</table>\n",
       "</div>"
      ],
      "text/plain": [
       "  Column 1  Column 2  Column 3\n",
       "0        a         1       1.1\n",
       "1        b         2       2.2"
      ]
     },
     "execution_count": 58,
     "metadata": {},
     "output_type": "execute_result"
    }
   ],
   "source": [
    "df.head(2)"
   ]
  },
  {
   "cell_type": "code",
   "execution_count": 59,
   "id": "e0f50aec",
   "metadata": {},
   "outputs": [
    {
     "data": {
      "text/html": [
       "<div>\n",
       "<style scoped>\n",
       "    .dataframe tbody tr th:only-of-type {\n",
       "        vertical-align: middle;\n",
       "    }\n",
       "\n",
       "    .dataframe tbody tr th {\n",
       "        vertical-align: top;\n",
       "    }\n",
       "\n",
       "    .dataframe thead th {\n",
       "        text-align: right;\n",
       "    }\n",
       "</style>\n",
       "<table border=\"1\" class=\"dataframe\">\n",
       "  <thead>\n",
       "    <tr style=\"text-align: right;\">\n",
       "      <th></th>\n",
       "      <th>Column 1</th>\n",
       "      <th>Column 2</th>\n",
       "      <th>Column 3</th>\n",
       "    </tr>\n",
       "  </thead>\n",
       "  <tbody>\n",
       "    <tr>\n",
       "      <th>2</th>\n",
       "      <td>c</td>\n",
       "      <td>3</td>\n",
       "      <td>3.3</td>\n",
       "    </tr>\n",
       "    <tr>\n",
       "      <th>3</th>\n",
       "      <td>d</td>\n",
       "      <td>4</td>\n",
       "      <td>4.4</td>\n",
       "    </tr>\n",
       "    <tr>\n",
       "      <th>4</th>\n",
       "      <td>e</td>\n",
       "      <td>5</td>\n",
       "      <td>5.5</td>\n",
       "    </tr>\n",
       "  </tbody>\n",
       "</table>\n",
       "</div>"
      ],
      "text/plain": [
       "  Column 1  Column 2  Column 3\n",
       "2        c         3       3.3\n",
       "3        d         4       4.4\n",
       "4        e         5       5.5"
      ]
     },
     "execution_count": 59,
     "metadata": {},
     "output_type": "execute_result"
    }
   ],
   "source": [
    "df.tail(3)"
   ]
  },
  {
   "cell_type": "code",
   "execution_count": 60,
   "id": "945200d4",
   "metadata": {},
   "outputs": [
    {
     "data": {
      "text/html": [
       "<div>\n",
       "<style scoped>\n",
       "    .dataframe tbody tr th:only-of-type {\n",
       "        vertical-align: middle;\n",
       "    }\n",
       "\n",
       "    .dataframe tbody tr th {\n",
       "        vertical-align: top;\n",
       "    }\n",
       "\n",
       "    .dataframe thead th {\n",
       "        text-align: right;\n",
       "    }\n",
       "</style>\n",
       "<table border=\"1\" class=\"dataframe\">\n",
       "  <thead>\n",
       "    <tr style=\"text-align: right;\">\n",
       "      <th></th>\n",
       "      <th>Column 1</th>\n",
       "      <th>Column 2</th>\n",
       "      <th>Column 3</th>\n",
       "    </tr>\n",
       "  </thead>\n",
       "  <tbody>\n",
       "    <tr>\n",
       "      <th>1</th>\n",
       "      <td>b</td>\n",
       "      <td>2</td>\n",
       "      <td>2.2</td>\n",
       "    </tr>\n",
       "    <tr>\n",
       "      <th>3</th>\n",
       "      <td>d</td>\n",
       "      <td>4</td>\n",
       "      <td>4.4</td>\n",
       "    </tr>\n",
       "  </tbody>\n",
       "</table>\n",
       "</div>"
      ],
      "text/plain": [
       "  Column 1  Column 2  Column 3\n",
       "1        b         2       2.2\n",
       "3        d         4       4.4"
      ]
     },
     "execution_count": 60,
     "metadata": {},
     "output_type": "execute_result"
    }
   ],
   "source": [
    "df.sample(2)"
   ]
  },
  {
   "cell_type": "markdown",
   "id": "e99a18ac",
   "metadata": {},
   "source": [
    "# Matplotlib\n",
    "- used to draw graphs"
   ]
  },
  {
   "cell_type": "code",
   "execution_count": 1,
   "id": "862ae663",
   "metadata": {},
   "outputs": [
    {
     "data": {
      "image/png": "[encoded data removed]",
      "text/plain": [
       "<Figure size 432x288 with 1 Axes>"
      ]
     },
     "metadata": {
      "needs_background": "light"
     },
     "output_type": "display_data"
    }
   ],
   "source": [
    "import matplotlib.pyplot as plt\n",
    "import numpy as np\n",
    "x=np.array([1,3,5,6,8])\n",
    "y=np.array([2,7,9,4,9])\n",
    "plt.title(\"Graph\")\n",
    "plt.xlabel(\"X Axis\")\n",
    "plt.ylabel(\"Y Axix\")\n",
    "plt.plot(x,y)\n",
    "plt.show()"
   ]
  },
  {
   "cell_type": "code",
   "execution_count": 3,
   "id": "1731a3fb",
   "metadata": {},
   "outputs": [
    {
     "data": {
      "image/png": "[encoded data removed]",
      "text/plain": [
       "<Figure size 432x288 with 1 Axes>"
      ]
     },
     "metadata": {
      "needs_background": "light"
     },
     "output_type": "display_data"
    }
   ],
   "source": [
    "import matplotlib.pyplot as plt\n",
    "import numpy as np\n",
    "x=np.array([1,2,3,4,5])\n",
    "y=np.array([1,2,1,2,1])\n",
    "plt.title(\"Graph\")\n",
    "plt.xlabel(\"X Axis\")\n",
    "plt.ylabel(\"Y Axix\")\n",
    "plt.plot(x,y)\n",
    "plt.show()"
   ]
  },
  {
   "cell_type": "markdown",
   "id": "f8829fc5",
   "metadata": {},
   "source": [
    "# subplots"
   ]
  },
  {
   "cell_type": "code",
   "execution_count": 4,
   "id": "ec2961ac",
   "metadata": {},
   "outputs": [
    {
     "data": {
      "text/plain": [
       "[<matplotlib.lines.Line2D at 0x25d12b8e8e0>]"
      ]
     },
     "execution_count": 4,
     "metadata": {},
     "output_type": "execute_result"
    },
    {
     "data": {
      "image/png": "[encoded data removed]",
      "text/plain": [
       "<Figure size 432x288 with 6 Axes>"
      ]
     },
     "metadata": {
      "needs_background": "light"
     },
     "output_type": "display_data"
    }
   ],
   "source": [
    "#plot1\n",
    "x=np.array([1,2,3,4,5])\n",
    "y=np.array([1,2,1,2,1])\n",
    "plt.subplot(2,3,1)\n",
    "plt.plot(x,y)\n",
    "#plot2\n",
    "x=np.array([1,3,5,6,8])\n",
    "y=np.array([2,7,9,4,9])\n",
    "plt.subplot(2,3,2)\n",
    "plt.plot(x,y)\n",
    "#plot3\n",
    "x=np.array([1,2,3,4,5])\n",
    "y=np.array([1,2,1,2,1])\n",
    "plt.subplot(2,3,3)\n",
    "plt.plot(x,y)\n",
    "#plot4\n",
    "x=np.array([1,3,5,6,8])\n",
    "y=np.array([2,7,9,4,9])\n",
    "plt.subplot(2,3,4)\n",
    "plt.plot(x,y)\n",
    "#plot5\n",
    "x=np.array([1,2,3,4,5])\n",
    "y=np.array([1,2,1,2,1])\n",
    "plt.subplot(2,3,5)\n",
    "plt.plot(x,y)\n",
    "#plot6\n",
    "x=np.array([1,3,5,6,8])\n",
    "y=np.array([2,7,9,4,9])\n",
    "plt.subplot(2,3,6)\n",
    "plt.plot(x,y)"
   ]
  },
  {
   "cell_type": "code",
   "execution_count": null,
   "id": "83281f2e",
   "metadata": {},
   "outputs": [],
   "source": []
  }
 ],
 "metadata": {
  "kernelspec": {
   "display_name": "Python 3 (ipykernel)",
   "language": "python",
   "name": "python3"
  },
  "language_info": {
   "codemirror_mode": {
    "name": "ipython",
    "version": 3
   },
   "file_extension": ".py",
   "mimetype": "text/x-python",
   "name": "python",
   "nbconvert_exporter": "python",
   "pygments_lexer": "ipython3",
   "version": "3.9.7"
  }
 },
 "nbformat": 4,
 "nbformat_minor": 5
}
